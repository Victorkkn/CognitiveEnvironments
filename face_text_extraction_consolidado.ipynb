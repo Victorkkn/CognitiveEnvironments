{
 "cells": [
  {
   "cell_type": "code",
   "execution_count": 163,
   "id": "6079b5c6",
   "metadata": {},
   "outputs": [],
   "source": [
    "import boto3\n",
    "import cv2\n",
    "import re\n",
    "from difflib import SequenceMatcher\n",
    "from unidecode import unidecode\n",
    "import os\n",
    "import face_recognition"
   ]
  },
  {
   "cell_type": "markdown",
   "id": "663fcf5e",
   "metadata": {},
   "source": [
    "# **========== TEXTRACT ==========**"
   ]
  },
  {
   "cell_type": "code",
   "execution_count": 164,
   "id": "d7f805b8",
   "metadata": {},
   "outputs": [],
   "source": [
    "def extrair_texto_textract(path_img):\n",
    "    textract = boto3.client('textract', region_name='us-east-1')\n",
    "    with open(path_img, 'rb') as f:\n",
    "        resposta = textract.detect_document_text(Document={'Bytes': f.read()})\n",
    "    return [b['Text'] for b in resposta['Blocks'] if b['BlockType'] == 'LINE']"
   ]
  },
  {
   "cell_type": "markdown",
   "id": "4d9a27b1",
   "metadata": {},
   "source": [
    "# **========== CNH ==========**"
   ]
  },
  {
   "cell_type": "code",
   "execution_count": 165,
   "id": "c54f002f",
   "metadata": {},
   "outputs": [],
   "source": [
    "def extrair_dados_cnh(linhas):\n",
    "    texto = ' '.join(linhas).upper()\n",
    "    nome = next((linhas[i+1].strip().title() for i, l in enumerate(linhas) if 'NOME' in l.upper()), None)\n",
    "    cpf_match = re.search(r'\\d{3}.\\d{3}.\\d{3}-\\d{2}', texto)\n",
    "    data_match = re.search(r'\\d{2}/\\d{2}/\\d{4}', texto)\n",
    "    return {\n",
    "        'nome': nome,\n",
    "        'cpf': cpf_match.group(0) if cpf_match else None,\n",
    "        'data_nascimento': data_match.group(0) if data_match else None\n",
    "    }\n"
   ]
  },
  {
   "cell_type": "markdown",
   "id": "45e5cc99",
   "metadata": {},
   "source": [
    "# **========== COMPROVANTE ==========**"
   ]
  },
  {
   "cell_type": "code",
   "execution_count": 166,
   "id": "cd2f6af7",
   "metadata": {},
   "outputs": [],
   "source": [
    "def extrair_dados_comprovante(linhas):\n",
    "    nome = None\n",
    "    endereco = None\n",
    "    cep_index = next((i for i, l in enumerate(linhas) if re.search(r'\\d{5}-\\d{3}\\s+[A-Z]{2}', l)), None)\n",
    "    if cep_index is not None and cep_index >= 2:\n",
    "        nome = linhas[cep_index - 3].strip().title()\n",
    "        end1 = linhas[cep_index - 2].strip().title()\n",
    "        end2 = linhas[cep_index - 1].strip().title()\n",
    "        end3 = linhas[cep_index].strip().title()\n",
    "        endereco = f\"{end1}, {end2}, {end3}\"\n",
    "    return {'nome': nome, 'endereco': endereco}"
   ]
  },
  {
   "cell_type": "markdown",
   "id": "ef54cff4",
   "metadata": {},
   "source": [
    "# **========== EXTRACT FACE ==========**"
   ]
  },
  {
   "cell_type": "code",
   "execution_count": 167,
   "id": "ca9690ab",
   "metadata": {},
   "outputs": [],
   "source": [
    "def extrair_face(imagem_path, saida_path, min_bytes=10000):\n",
    "    if not os.path.exists(imagem_path) or os.path.getsize(imagem_path) < min_bytes:\n",
    "        raise ValueError(f\"Imagem inválida ou muito pequena: {imagem_path}\")\n",
    "\n",
    "    imagem_bgr = cv2.imread(imagem_path)\n",
    "    if imagem_bgr is None or imagem_bgr.size == 0:\n",
    "        raise ValueError(f\"Erro ao carregar imagem: {imagem_path}\")\n",
    "\n",
    "    imagem_rgb = cv2.cvtColor(imagem_bgr, cv2.COLOR_BGR2RGB)\n",
    "    faces = face_recognition.face_locations(imagem_rgb)\n",
    "\n",
    "    if len(faces) == 0:\n",
    "        raise ValueError(f\"Nenhuma face detectada em: {imagem_path}\")\n",
    "\n",
    "    top, right, bottom, left = faces[0]\n",
    "    face_recortada = imagem_rgb[top:bottom, left:right]\n",
    "\n",
    "    # Verifica dimensões mínimas\n",
    "    h, w, _ = face_recortada.shape\n",
    "    if w < 60 or h < 60:\n",
    "        raise ValueError(f\"Face recortada muito pequena (w={w}, h={h}) em: {imagem_path}\")\n",
    "\n",
    "    # Salva imagem RGB convertida de volta para BGR\n",
    "    cv2.imwrite(saida_path, cv2.cvtColor(face_recortada, cv2.COLOR_RGB2BGR))\n",
    "\n",
    "    # Verifica tamanho final\n",
    "    if not os.path.exists(saida_path) or os.path.getsize(saida_path) < min_bytes:\n",
    "        raise ValueError(f\"Face recortada inválida (arquivo final corrompido): {saida_path}\")\n",
    "\n",
    "    return saida_path"
   ]
  },
  {
   "cell_type": "markdown",
   "id": "63c790d9",
   "metadata": {},
   "source": [
    "# **========== FACE COMPARISON ==========**"
   ]
  },
  {
   "cell_type": "code",
   "execution_count": 168,
   "id": "f1e11a03",
   "metadata": {},
   "outputs": [],
   "source": [
    "def comparar_faces_rekognition(path_cnh_face, path_selfie_face):\n",
    "    rekognition = boto3.client('rekognition', region_name='us-east-1')\n",
    "    with open(path_cnh_face, 'rb') as f1, open(path_selfie_face, 'rb') as f2:\n",
    "        r = rekognition.compare_faces(SourceImage={'Bytes': f1.read()},\n",
    "                                      TargetImage={'Bytes': f2.read()},\n",
    "                                      SimilarityThreshold=70)\n",
    "    return r['FaceMatches'][0]['Similarity'] if r['FaceMatches'] else 0.0"
   ]
  },
  {
   "cell_type": "markdown",
   "id": "78034280",
   "metadata": {},
   "source": [
    "# **========== COMPARAÇÃO NOMES ==========**"
   ]
  },
  {
   "cell_type": "code",
   "execution_count": 169,
   "id": "2f09da9a",
   "metadata": {},
   "outputs": [],
   "source": [
    "def comparar_nomes(n1, n2, limiar=0.85):\n",
    "    def clean(t): return unidecode(t or \"\").lower().strip()\n",
    "    sim = SequenceMatcher(None, clean(n1), clean(n2)).ratio()\n",
    "    return sim, sim >= limiar"
   ]
  },
  {
   "cell_type": "markdown",
   "id": "d4719b56",
   "metadata": {},
   "source": [
    "# **========== PIPELINE FINAL ==========**"
   ]
  },
  {
   "cell_type": "code",
   "execution_count": 170,
   "id": "9fb68ba5",
   "metadata": {},
   "outputs": [],
   "source": [
    "def validar_identidade_completa(path_cnh_img, path_selfie_img, path_comprovante_img):\n",
    "    # Extrai texto da CNH\n",
    "    linhas_cnh = extrair_texto_textract(path_cnh_img)\n",
    "    dados_cnh = extrair_dados_cnh(linhas_cnh)\n",
    "\n",
    "    # Extrai texto do comprovante\n",
    "    linhas_comp = extrair_texto_textract(path_comprovante_img)\n",
    "    dados_comp = extrair_dados_comprovante(linhas_comp)\n",
    "\n",
    "    # Extrai faces automaticamente e salva em arquivos temporários\n",
    "    path_face_cnh = './face_extraction_cnh/temp_face_cnh.jpg'\n",
    "    path_face_selfie = './face_extraction_selfie/temp_face_selfie.jpg'\n",
    "    \n",
    "    try:\n",
    "        extrair_face(path_cnh_img, path_face_cnh)\n",
    "    except Exception as e:\n",
    "        return {\"erro\": f\"Falha na extração da face da CNH: {e}\"}\n",
    "    \n",
    "    try:\n",
    "        extrair_face(path_selfie_img, path_face_selfie)\n",
    "    except Exception as e:\n",
    "        return {\"erro\": f\"Falha na extração da face da selfie: {e}\"}\n",
    "\n",
    "    # Compara faces\n",
    "    similaridade_face = comparar_faces_rekognition(path_face_cnh, path_face_selfie)\n",
    "\n",
    "    # Compara nomes\n",
    "    similaridade_nome, nome_ok = comparar_nomes(dados_cnh['nome'], dados_comp['nome'])\n",
    "\n",
    "    # Status final\n",
    "    status = (\n",
    "        \"✅ Aprovado\" if nome_ok and similaridade_face >= 90 else\n",
    "        \"⚠️ Alerta: requer validação manual\" if similaridade_face >= 70 else\n",
    "        \"❌ Reprovado\"\n",
    "    )\n",
    "\n",
    "    return {\n",
    "        \"documento_cnh\": {\n",
    "                \"nome\": dados_cnh['nome'],\n",
    "                \"cpf\": dados_cnh['cpf'],\n",
    "                \"data_nascimento\": dados_cnh['data_nascimento']\n",
    "            },\n",
    "            \"comprovante_residencia\": {\n",
    "                \"nome\": dados_comp['nome'],\n",
    "                \"endereco\": dados_comp['endereco']\n",
    "            },\n",
    "            \"verificacoes\": {\n",
    "                \"similaridade_nome\": f\"{round(similaridade_nome * 100, 2)}%\",\n",
    "                \"similaridade_face\": f\"{round(similaridade_face, 2)}%\",\n",
    "                \"validacao_nome\": \"✅ Nome confere\" if nome_ok else \"❌ Nome divergente\",\n",
    "                \"validacao_face\": (\n",
    "                    \"✅ Face validada\" if similaridade_face >= 90 else\n",
    "                    \"⚠️ Abaixo de 90% — revisão manual\" if similaridade_face >= 70 else\n",
    "                    \"❌ Face inválida\"\n",
    "                )\n",
    "            },\n",
    "            \"status_final\": status\n",
    "    }"
   ]
  },
  {
   "cell_type": "code",
   "execution_count": 171,
   "id": "f2054a35",
   "metadata": {},
   "outputs": [
    {
     "name": "stdout",
     "output_type": "stream",
     "text": [
      "{'documento_cnh': {'nome': 'Victor Kennedy Kaneko Nunes', 'cpf': '016.299.066-97', 'data_nascimento': '09/08/1997'}, 'comprovante_residencia': {'nome': 'Victor Kennedy Kaneko Nunes', 'endereco': 'Avenida Sebastiao Dayrell De L 110 Ap 303, Brasileia, 32600-266 Betim Mg'}, 'verificacoes': {'similaridade_nome': '100.0%', 'similaridade_face': '98.93%', 'validacao_nome': '✅ Nome confere', 'validacao_face': '✅ Face validada'}, 'status_final': '✅ Aprovado'}\n"
     ]
    }
   ],
   "source": [
    "path_cnh_img='./imagens/cnh.jpeg'\n",
    "path_selfie_img='./imagens/selfie.jpeg'\n",
    "path_comprovante_img='./imagens/comprovante.jpeg'\n",
    "\n",
    "resultado = validar_identidade_completa(\n",
    "    path_cnh_img=path_cnh_img,\n",
    "    path_selfie_img=path_selfie_img,\n",
    "    path_comprovante_img=path_comprovante_img\n",
    ")\n",
    "print(resultado)\n"
   ]
  }
 ],
 "metadata": {
  "kernelspec": {
   "display_name": ".venv",
   "language": "python",
   "name": "python3"
  },
  "language_info": {
   "codemirror_mode": {
    "name": "ipython",
    "version": 3
   },
   "file_extension": ".py",
   "mimetype": "text/x-python",
   "name": "python",
   "nbconvert_exporter": "python",
   "pygments_lexer": "ipython3",
   "version": "3.12.8"
  }
 },
 "nbformat": 4,
 "nbformat_minor": 5
}
